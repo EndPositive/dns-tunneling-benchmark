{
 "cells": [
  {
   "metadata": {},
   "cell_type": "markdown",
   "source": "# Statistics packets flow",
   "id": "ffaf68ac6d4d9de2"
  },
  {
   "metadata": {
    "collapsed": true,
    "ExecuteTime": {
     "end_time": "2024-09-10T10:14:19.848450Z",
     "start_time": "2024-09-10T10:14:19.838456Z"
    }
   },
   "cell_type": "code",
   "source": [
    "import dpkt\n",
    "import socket\n",
    "from collections import defaultdict\n",
    "\n",
    "def load_pcap(file_name):\n",
    "    ip_data = defaultdict(list)\n",
    "    start_time = None\n",
    "\n",
    "    with open(file_name, 'rb') as f:\n",
    "        pcap = dpkt.pcap.Reader(f)\n",
    "        for timestamp, buf in pcap:\n",
    "            eth = dpkt.ethernet.Ethernet(buf)\n",
    "            if isinstance(eth.data, dpkt.ip.IP):\n",
    "                ip = eth.data\n",
    "                src_ip = socket.inet_ntoa(ip.src)\n",
    "                dst_ip = socket.inet_ntoa(ip.dst)\n",
    "\n",
    "                # Initialize start_time for the first packet\n",
    "                if start_time is None:\n",
    "                    start_time = timestamp\n",
    "\n",
    "                time = timestamp - start_time\n",
    "\n",
    "                ip_data[(src_ip, dst_ip)].append(time)\n",
    "\n",
    "    return ip_data\n",
    "\n",
    "import plotly.graph_objs as go\n",
    "\n",
    "def filter_ip_pair_data(ip_data, ip_pair):\n",
    "    # Check if the IP pair exists in either direction\n",
    "    if ip_pair in ip_data:\n",
    "        return ip_data[ip_pair]\n",
    "    elif (ip_pair[1], ip_pair[0]) in ip_data:\n",
    "        return ip_data[(ip_pair[1], ip_pair[0])]\n",
    "    else:\n",
    "        return defaultdict(int)  # Return empty if no data found"
   ],
   "id": "initial_id",
   "outputs": [],
   "execution_count": 101
  },
  {
   "metadata": {
    "ExecuteTime": {
     "end_time": "2024-09-10T10:14:20.193835Z",
     "start_time": "2024-09-10T10:14:19.910303Z"
    }
   },
   "cell_type": "code",
   "source": [
    "# list files in current directory names \"packets-*.pcap\"\n",
    "import os\n",
    "pcap_files = [f for f in os.listdir('.') if os.path.isfile(f) and f.startswith('packets-') and f.endswith('.pcap')]\n",
    "\n",
    "ip_datas = {}\n",
    "\n",
    "# load_pcap for each file\n",
    "for pcap_file in pcap_files:\n",
    "    print(\"Loading\", pcap_file)\n",
    "    ip_data = load_pcap(pcap_file)\n",
    "    ip_datas[pcap_file] = ip_data"
   ],
   "id": "fbe3b9b64ce32b0a",
   "outputs": [
    {
     "name": "stdout",
     "output_type": "stream",
     "text": [
      "Loading packets-dnstt-20240910-154444.pcap\n",
      "Loading packets-iodine-20240910-155333.pcap\n",
      "Loading packets-dns2tcp-20240910-154930.pcap\n",
      "Loading packets-dnscat2-20240910-155449.pcap\n"
     ]
    }
   ],
   "execution_count": 102
  },
  {
   "metadata": {
    "ExecuteTime": {
     "end_time": "2024-09-10T10:14:20.243654Z",
     "start_time": "2024-09-10T10:14:20.233163Z"
    }
   },
   "cell_type": "code",
   "source": [
    "from ipywidgets import Output\n",
    "import plotly.graph_objs as go\n",
    "\n",
    "# Function to compute the global bin size based on visible data\n",
    "def compute_bin_size_dynamic(protocol_packets, visible_traces, desired_bins=100):\n",
    "    # Find the min and max time across only visible traces\n",
    "    max_time = float('-inf')\n",
    "\n",
    "    for protocol, packet_time in protocol_packets.items():\n",
    "        if visible_traces[protocol]:  # Only consider visible traces\n",
    "            max_time = max(max_time, max(packet_time))\n",
    "\n",
    "    # Compute the bin size based on the total range and the number of desired bins\n",
    "    bin_size = max_time / desired_bins\n",
    "    return bin_size, 0, max_time\n",
    "\n",
    "def plot_packets(protocol_packets):\n",
    "    # Dictionary to track visible state of each protocol\n",
    "    visible_traces = defaultdict(lambda: True)\n",
    "    \n",
    "    # Create the Plotly figure\n",
    "    fig = go.Figure()\n",
    "\n",
    "    # Add traces for each protocol\n",
    "    for protocol, packet_time in protocol_packets.items():\n",
    "        fig.add_trace(go.Histogram(\n",
    "            x=packet_time,\n",
    "            name=protocol,\n",
    "            xbins=dict(start=min(packet_time), size=1, end=max(packet_time)),\n",
    "            visible=True\n",
    "        ))\n",
    "\n",
    "    # Update layout with titles and legend\n",
    "    fig.update_layout(\n",
    "        title=f\"Packets per Second Histogram\",\n",
    "        xaxis_title=\"Time (seconds)\",\n",
    "        yaxis_title=\"Packet Count\",\n",
    "        showlegend=True,\n",
    "        barmode='overlay',\n",
    "    )\n",
    "\n",
    "    # Display the figure\n",
    "    out = Output()\n",
    "    display(out)\n",
    "    \n",
    "    with out:\n",
    "        fig.show()\n",
    "\n",
    "    # Define the callback for dynamic legend click event\n",
    "    def update_bins(trace, points, selector):\n",
    "        # Toggle visibility of the clicked trace\n",
    "        visible_traces[trace['name']] = not trace.visible\n",
    "        \n",
    "        # Recompute the bin size based on visible traces\n",
    "        bin_size, min_time, max_time = compute_bin_size_dynamic(protocol_packets, visible_traces)\n",
    "        print(bin_size, min_time, max_time)\n",
    "\n",
    "        # Update all traces with the new bin size and global start/end times\n",
    "        for i, protocol in enumerate(protocol_packets.keys()):\n",
    "            fig.data[i].xbins.start = min_time\n",
    "            fig.data[i].xbins.end = max_time\n",
    "            fig.data[i].xbins.size = bin_size\n",
    "        \n",
    "        # Refresh the figure\n",
    "        fig.update_traces()\n",
    "    \n",
    "    # Attach the callback to legend click events\n",
    "    fig.data[0].on_click(update_bins)"
   ],
   "id": "8cc3f8ccfa6beb61",
   "outputs": [],
   "execution_count": 103
  },
  {
   "metadata": {
    "ExecuteTime": {
     "end_time": "2024-09-10T10:14:20.298437Z",
     "start_time": "2024-09-10T10:14:20.293796Z"
    }
   },
   "cell_type": "code",
   "source": [
    "# Now filter and plot for a specific IP pair\n",
    "ip_pair = ('172.22.0.3', '172.22.0.2')\n",
    "filtered_ip_data = {}\n",
    "for pcap_file, ip_data in ip_datas.items():\n",
    "    filtered_ip_data[pcap_file] = filter_ip_pair_data(ip_data, ip_pair)\n"
   ],
   "id": "24651a2663bdc06e",
   "outputs": [],
   "execution_count": 104
  },
  {
   "metadata": {
    "ExecuteTime": {
     "end_time": "2024-09-10T10:14:20.422188Z",
     "start_time": "2024-09-10T10:14:20.341428Z"
    }
   },
   "cell_type": "code",
   "source": "plot_packets(filtered_ip_data)",
   "id": "c8c6a0c052f902ed",
   "outputs": [
    {
     "data": {
      "text/plain": [
       "Output()"
      ],
      "application/vnd.jupyter.widget-view+json": {
       "version_major": 2,
       "version_minor": 0,
       "model_id": "39fdbc7ba29e4923add31bc5cfbf6103"
      }
     },
     "metadata": {},
     "output_type": "display_data"
    }
   ],
   "execution_count": 105
  },
  {
   "metadata": {
    "ExecuteTime": {
     "end_time": "2024-09-10T10:14:20.461820Z",
     "start_time": "2024-09-10T10:14:20.458736Z"
    }
   },
   "cell_type": "code",
   "source": "",
   "id": "9a58f76dc1215550",
   "outputs": [],
   "execution_count": null
  }
 ],
 "metadata": {
  "kernelspec": {
   "display_name": "Python 3",
   "language": "python",
   "name": "python3"
  },
  "language_info": {
   "codemirror_mode": {
    "name": "ipython",
    "version": 2
   },
   "file_extension": ".py",
   "mimetype": "text/x-python",
   "name": "python",
   "nbconvert_exporter": "python",
   "pygments_lexer": "ipython2",
   "version": "2.7.6"
  }
 },
 "nbformat": 4,
 "nbformat_minor": 5
}
